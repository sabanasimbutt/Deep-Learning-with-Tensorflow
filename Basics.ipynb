{
 "cells": [
  {
   "cell_type": "code",
   "execution_count": 48,
   "metadata": {},
   "outputs": [],
   "source": [
    "import tensorflow as tf"
   ]
  },
  {
   "cell_type": "code",
   "execution_count": 16,
   "metadata": {},
   "outputs": [],
   "source": [
    "a= tf.constant([2])\n",
    "b= tf.constant([4])"
   ]
  },
  {
   "cell_type": "code",
   "execution_count": 17,
   "metadata": {},
   "outputs": [],
   "source": [
    "add= tf.add(a,b)"
   ]
  },
  {
   "cell_type": "code",
   "execution_count": 26,
   "metadata": {},
   "outputs": [],
   "source": [
    "session= tf.Session()\n",
    "result= session.run(add)"
   ]
  },
  {
   "cell_type": "code",
   "execution_count": 29,
   "metadata": {},
   "outputs": [
    {
     "name": "stdout",
     "output_type": "stream",
     "text": [
      "[6]\n"
     ]
    }
   ],
   "source": [
    "print(result)"
   ]
  },
  {
   "cell_type": "code",
   "execution_count": 31,
   "metadata": {},
   "outputs": [],
   "source": [
    "session.close()"
   ]
  },
  {
   "cell_type": "code",
   "execution_count": 34,
   "metadata": {},
   "outputs": [
    {
     "name": "stdout",
     "output_type": "stream",
     "text": [
      "[6]\n"
     ]
    }
   ],
   "source": [
    "with tf.Session() as ses:\n",
    "    result= ses.run(add)\n",
    "    print(result)"
   ]
  },
  {
   "cell_type": "markdown",
   "metadata": {},
   "source": [
    "#### Multidimensional arrays using TensorFlow"
   ]
  },
  {
   "cell_type": "code",
   "execution_count": 42,
   "metadata": {},
   "outputs": [
    {
     "name": "stdout",
     "output_type": "stream",
     "text": [
      "Point:\n",
      " [1]\n",
      "\n",
      "Line:\n",
      " [1 2]\n",
      "\n",
      "Surface:\n",
      " [[1 2]\n",
      " [3 4]\n",
      " [5 6]]\n",
      "\n",
      "Volume:\n",
      " [[[1 2 3]\n",
      "  [4 5 6]]\n",
      "\n",
      " [[7 8 9]\n",
      "  [1 2 3]]\n",
      "\n",
      " [[1 2 3]\n",
      "  [4 5 6]]]\n",
      "\n"
     ]
    }
   ],
   "source": [
    "scalar = tf.constant([1])\n",
    "vector= tf.constant([1,2])\n",
    "matrix= tf.constant([[1,2],[3,4],[5,6]])\n",
    "tensor=tf.constant([ [[1,2,3],[4,5,6]] , [[7,8,9],[1,2,3]] , [[1,2,3],[4,5,6]] ])\n",
    "\n",
    "with tf.Session() as session:\n",
    "    \n",
    "    r= session.run(scalar)\n",
    "    print(\"Point:\\n %s\\n\" % r)\n",
    "    r= session.run(vector)\n",
    "    print(\"Line:\\n %s\\n\" % r)\n",
    "    r= session.run(matrix)\n",
    "    print(\"Surface:\\n %s\\n\" % r)\n",
    "    r= session.run(tensor)\n",
    "    print(\"Volume:\\n %s\\n\" % r)"
   ]
  },
  {
   "cell_type": "code",
   "execution_count": 46,
   "metadata": {},
   "outputs": [
    {
     "name": "stdout",
     "output_type": "stream",
     "text": [
      "with tesnorflow add:\n",
      " [[ 2  4]\n",
      " [ 6  8]\n",
      " [10 12]]\n",
      "without tf add op:\n",
      "[[ 2  4]\n",
      " [ 6  8]\n",
      " [10 12]]\n"
     ]
    }
   ],
   "source": [
    "matrix_1= tf.constant([[1,2],[3,4],[5,6]])\n",
    "matrix_2= tf.constant([[1,2],[3,4],[5,6]])\n",
    "\n",
    "op1= tf.add(matrix_1,matrix_2)\n",
    "op2= matrix_1 + matrix_2\n",
    "\n",
    "with tf.Session() as session:\n",
    "    \n",
    "    r = session.run(op1)\n",
    "    print(\"with tesnorflow add:\\n %s\"%r)\n",
    "    \n",
    "    r = session.run(op2)\n",
    "    print(\"without tf add op:\\n%s\"% r)"
   ]
  },
  {
   "cell_type": "markdown",
   "metadata": {},
   "source": [
    "#### Another TensorFlow function called tf.matmul()"
   ]
  },
  {
   "cell_type": "code",
   "execution_count": 47,
   "metadata": {},
   "outputs": [
    {
     "name": "stdout",
     "output_type": "stream",
     "text": [
      "with tesnorflow matmul:\n",
      " [[ 7 10]\n",
      " [15 22]]\n"
     ]
    }
   ],
   "source": [
    "matrix_1= tf.constant([[1,2],[3,4]])\n",
    "matrix_2= tf.constant([[1,2],[3,4]])\n",
    "\n",
    "op1= tf.matmul(matrix_1,matrix_2)\n",
    "\n",
    "with tf.Session() as session:\n",
    "    \n",
    "    r = session.run(op1)\n",
    "    print(\"with tesnorflow matmul:\\n %s\"%r)"
   ]
  },
  {
   "cell_type": "markdown",
   "metadata": {},
   "source": [
    "#### Variables"
   ]
  },
  {
   "cell_type": "code",
   "execution_count": 77,
   "metadata": {},
   "outputs": [],
   "source": [
    "var= tf.Variable(1)\n",
    "con= tf.constant(4)\n",
    "add= tf.add(var,con)\n",
    "assign= tf.assign(var, add)"
   ]
  },
  {
   "cell_type": "code",
   "execution_count": 78,
   "metadata": {},
   "outputs": [],
   "source": [
    "init= tf.global_variables_initializer()"
   ]
  },
  {
   "cell_type": "code",
   "execution_count": 83,
   "metadata": {},
   "outputs": [
    {
     "name": "stdout",
     "output_type": "stream",
     "text": [
      "5\n",
      "9\n",
      "13\n"
     ]
    }
   ],
   "source": [
    "with tf.Session() as session:\n",
    "    \n",
    "    session.run(init)\n",
    "    \n",
    "    for i in range(3):\n",
    "        \n",
    "        session.run(assign)\n",
    "        print(session.run(var))"
   ]
  },
  {
   "cell_type": "code",
   "execution_count": null,
   "metadata": {},
   "outputs": [],
   "source": []
  },
  {
   "cell_type": "code",
   "execution_count": null,
   "metadata": {},
   "outputs": [],
   "source": []
  },
  {
   "cell_type": "code",
   "execution_count": null,
   "metadata": {},
   "outputs": [],
   "source": []
  },
  {
   "cell_type": "code",
   "execution_count": null,
   "metadata": {},
   "outputs": [],
   "source": []
  },
  {
   "cell_type": "code",
   "execution_count": null,
   "metadata": {},
   "outputs": [],
   "source": []
  },
  {
   "cell_type": "code",
   "execution_count": null,
   "metadata": {},
   "outputs": [],
   "source": []
  },
  {
   "cell_type": "code",
   "execution_count": null,
   "metadata": {},
   "outputs": [],
   "source": []
  },
  {
   "cell_type": "code",
   "execution_count": null,
   "metadata": {},
   "outputs": [],
   "source": []
  }
 ],
 "metadata": {
  "kernelspec": {
   "display_name": "Python 3",
   "language": "python",
   "name": "python3"
  },
  "language_info": {
   "codemirror_mode": {
    "name": "ipython",
    "version": 3
   },
   "file_extension": ".py",
   "mimetype": "text/x-python",
   "name": "python",
   "nbconvert_exporter": "python",
   "pygments_lexer": "ipython3",
   "version": "3.6.5"
  }
 },
 "nbformat": 4,
 "nbformat_minor": 2
}
