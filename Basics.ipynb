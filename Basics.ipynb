{
 "cells": [
  {
   "cell_type": "markdown",
   "metadata": {},
   "source": [
    "## TensorFlow\n",
    "\n",
    "The word tensor from new latin means \"that which stretches\". It is a mathematical object that is named tensor because an early application of tensors was the study of materials stretching under tension. The contemporary meaning of tensors can be taken as multidimensional arrays.\n",
    "\n",
    "In TensorFlow all data is passed between operations in a computation graph, and these are passed in the form of Tensors, hence the name of TensorFlow. \n",
    "\n",
    "TensorFlow defines computations as Graphs, and these are made with operations (also know as “ops”). So, when we work with TensorFlow, it is the same as defining a series of operations in a Graph.\n"
   ]
  },
  {
   "cell_type": "markdown",
   "metadata": {},
   "source": [
    "<img src='https://ibm.box.com/shared/static/a94cgezzwbkrq02jzfjjljrcaozu5s2q.png'>\n"
   ]
  },
  {
   "cell_type": "code",
   "execution_count": 102,
   "metadata": {},
   "outputs": [],
   "source": [
    "import tensorflow as tf"
   ]
  },
  {
   "cell_type": "code",
   "execution_count": 84,
   "metadata": {},
   "outputs": [],
   "source": [
    "a= tf.constant([2])\n",
    "b= tf.constant([4])"
   ]
  },
  {
   "cell_type": "code",
   "execution_count": 17,
   "metadata": {},
   "outputs": [],
   "source": [
    "add= tf.add(a,b)"
   ]
  },
  {
   "cell_type": "code",
   "execution_count": 90,
   "metadata": {},
   "outputs": [],
   "source": [
    "session= tf.Session()\n",
    "result= session.run(add)"
   ]
  },
  {
   "cell_type": "code",
   "execution_count": 91,
   "metadata": {},
   "outputs": [
    {
     "name": "stdout",
     "output_type": "stream",
     "text": [
      "[4]\n"
     ]
    }
   ],
   "source": [
    "print(result)"
   ]
  },
  {
   "cell_type": "code",
   "execution_count": 31,
   "metadata": {},
   "outputs": [],
   "source": [
    "session.close()"
   ]
  },
  {
   "cell_type": "code",
   "execution_count": 34,
   "metadata": {},
   "outputs": [
    {
     "name": "stdout",
     "output_type": "stream",
     "text": [
      "[6]\n"
     ]
    }
   ],
   "source": [
    "with tf.Session() as ses:\n",
    "    result= ses.run(add)\n",
    "    print(result)"
   ]
  },
  {
   "cell_type": "markdown",
   "metadata": {},
   "source": [
    "#### Multidimensional arrays using TensorFlow"
   ]
  },
  {
   "cell_type": "code",
   "execution_count": 42,
   "metadata": {},
   "outputs": [
    {
     "name": "stdout",
     "output_type": "stream",
     "text": [
      "Point:\n",
      " [1]\n",
      "\n",
      "Line:\n",
      " [1 2]\n",
      "\n",
      "Surface:\n",
      " [[1 2]\n",
      " [3 4]\n",
      " [5 6]]\n",
      "\n",
      "Volume:\n",
      " [[[1 2 3]\n",
      "  [4 5 6]]\n",
      "\n",
      " [[7 8 9]\n",
      "  [1 2 3]]\n",
      "\n",
      " [[1 2 3]\n",
      "  [4 5 6]]]\n",
      "\n"
     ]
    }
   ],
   "source": [
    "scalar = tf.constant([1])\n",
    "vector= tf.constant([1,2])\n",
    "matrix= tf.constant([[1,2],[3,4],[5,6]])\n",
    "tensor=tf.constant([ [[1,2,3],[4,5,6]] , [[7,8,9],[1,2,3]] , [[1,2,3],[4,5,6]] ])\n",
    "\n",
    "with tf.Session() as session:\n",
    "    \n",
    "    r= session.run(scalar)\n",
    "    print(\"Point:\\n %s\\n\" % r)\n",
    "    r= session.run(vector)\n",
    "    print(\"Line:\\n %s\\n\" % r)\n",
    "    r= session.run(matrix)\n",
    "    print(\"Surface:\\n %s\\n\" % r)\n",
    "    r= session.run(tensor)\n",
    "    print(\"Volume:\\n %s\\n\" % r)"
   ]
  },
  {
   "cell_type": "code",
   "execution_count": 46,
   "metadata": {},
   "outputs": [
    {
     "name": "stdout",
     "output_type": "stream",
     "text": [
      "with tesnorflow add:\n",
      " [[ 2  4]\n",
      " [ 6  8]\n",
      " [10 12]]\n",
      "without tf add op:\n",
      "[[ 2  4]\n",
      " [ 6  8]\n",
      " [10 12]]\n"
     ]
    }
   ],
   "source": [
    "matrix_1= tf.constant([[1,2],[3,4],[5,6]])\n",
    "matrix_2= tf.constant([[1,2],[3,4],[5,6]])\n",
    "\n",
    "op1= tf.add(matrix_1,matrix_2)\n",
    "op2= matrix_1 + matrix_2\n",
    "\n",
    "with tf.Session() as session:\n",
    "    \n",
    "    r = session.run(op1)\n",
    "    print(\"with tesnorflow add:\\n %s\"%r)\n",
    "    \n",
    "    r = session.run(op2)\n",
    "    print(\"without tf add op:\\n%s\"% r)"
   ]
  },
  {
   "cell_type": "markdown",
   "metadata": {},
   "source": [
    "#### Another TensorFlow function called tf.matmul()"
   ]
  },
  {
   "cell_type": "code",
   "execution_count": 47,
   "metadata": {},
   "outputs": [
    {
     "name": "stdout",
     "output_type": "stream",
     "text": [
      "with tesnorflow matmul:\n",
      " [[ 7 10]\n",
      " [15 22]]\n"
     ]
    }
   ],
   "source": [
    "matrix_1= tf.constant([[1,2],[3,4]])\n",
    "matrix_2= tf.constant([[1,2],[3,4]])\n",
    "\n",
    "op1= tf.matmul(matrix_1,matrix_2)\n",
    "\n",
    "with tf.Session() as session:\n",
    "    \n",
    "    r = session.run(op1)\n",
    "    print(\"with tesnorflow matmul:\\n %s\"%r)"
   ]
  },
  {
   "cell_type": "markdown",
   "metadata": {},
   "source": [
    "### Variables\n",
    "\n",
    "To define variables we use the command `tf.variable()`. To be able to use variables in a computation graph it is necessary to initialize them before running the graph in a session. This is done by running `tf.global_variables_initializer()`."
   ]
  },
  {
   "cell_type": "code",
   "execution_count": 77,
   "metadata": {},
   "outputs": [],
   "source": [
    "var= tf.Variable(1)\n",
    "con= tf.constant(4)\n",
    "add= tf.add(var,con)\n",
    "assign= tf.assign(var, add)"
   ]
  },
  {
   "cell_type": "code",
   "execution_count": 78,
   "metadata": {},
   "outputs": [],
   "source": [
    "init= tf.global_variables_initializer()"
   ]
  },
  {
   "cell_type": "code",
   "execution_count": 83,
   "metadata": {},
   "outputs": [
    {
     "name": "stdout",
     "output_type": "stream",
     "text": [
      "5\n",
      "9\n",
      "13\n"
     ]
    }
   ],
   "source": [
    "with tf.Session() as session:\n",
    "    \n",
    "    session.run(init)\n",
    "    \n",
    "    for i in range(3):\n",
    "        \n",
    "        session.run(assign)\n",
    "        print(session.run(var))"
   ]
  },
  {
   "cell_type": "markdown",
   "metadata": {},
   "source": [
    "### Placeholders\n",
    "\n",
    "Placeholders can be seen as \"holes\" in your model, \"holes\" which you will pass the data to, you can create them using \n",
    "tf.placeholder(datatype), where datatype specifies the type of data (integers, floating points, strings, booleans) along with its precision (8, 16, 32, 64) bits."
   ]
  },
  {
   "cell_type": "code",
   "execution_count": 93,
   "metadata": {},
   "outputs": [],
   "source": [
    "a= tf.placeholder(tf.float32)\n",
    "b=a*3"
   ]
  },
  {
   "cell_type": "code",
   "execution_count": 96,
   "metadata": {},
   "outputs": [
    {
     "name": "stdout",
     "output_type": "stream",
     "text": [
      "6.0\n"
     ]
    }
   ],
   "source": [
    "with tf.Session() as session:\n",
    "    r= session.run(b, feed_dict={a:2})\n",
    "    print(r)"
   ]
  },
  {
   "cell_type": "code",
   "execution_count": 98,
   "metadata": {},
   "outputs": [
    {
     "name": "stdout",
     "output_type": "stream",
     "text": [
      "[[ 3.  6.]\n",
      " [ 9. 12.]]\n"
     ]
    }
   ],
   "source": [
    "d={a:[[1,2],[3,4]]}\n",
    "\n",
    "with tf.Session() as session:\n",
    "    r= session.run(b, feed_dict=d)\n",
    "    print(r)"
   ]
  },
  {
   "cell_type": "markdown",
   "metadata": {},
   "source": [
    "### Operations\n",
    "\n",
    "Operations are nodes that represent the mathematical operations over the tensors on a graph. These operations can be any kind of functions, like add and subtract tensor or maybe an activation function."
   ]
  },
  {
   "cell_type": "code",
   "execution_count": 101,
   "metadata": {},
   "outputs": [
    {
     "name": "stdout",
     "output_type": "stream",
     "text": [
      "[6]\n",
      "[2]\n"
     ]
    }
   ],
   "source": [
    "a= tf.constant([4])\n",
    "b= tf.constant([2])\n",
    "add= tf.add(a,b)\n",
    "sub=tf.subtract(a,b)\n",
    "\n",
    "with tf.Session() as ses:\n",
    "    result= ses.run(add)\n",
    "    print(result)\n",
    "    \n",
    "    result= ses.run(sub)\n",
    "    print(result)"
   ]
  },
  {
   "cell_type": "code",
   "execution_count": null,
   "metadata": {},
   "outputs": [],
   "source": []
  }
 ],
 "metadata": {
  "kernelspec": {
   "display_name": "Python 3",
   "language": "python",
   "name": "python3"
  },
  "language_info": {
   "codemirror_mode": {
    "name": "ipython",
    "version": 3
   },
   "file_extension": ".py",
   "mimetype": "text/x-python",
   "name": "python",
   "nbconvert_exporter": "python",
   "pygments_lexer": "ipython3",
   "version": "3.6.5"
  }
 },
 "nbformat": 4,
 "nbformat_minor": 2
}
