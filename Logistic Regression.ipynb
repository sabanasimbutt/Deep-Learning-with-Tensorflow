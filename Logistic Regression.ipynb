{
 "cells": [
  {
   "cell_type": "code",
   "execution_count": 1,
   "metadata": {},
   "outputs": [
    {
     "name": "stderr",
     "output_type": "stream",
     "text": [
      "C:\\ProgramData\\Anaconda3\\lib\\site-packages\\h5py\\__init__.py:36: FutureWarning: Conversion of the second argument of issubdtype from `float` to `np.floating` is deprecated. In future, it will be treated as `np.float64 == np.dtype(float).type`.\n",
      "  from ._conv import register_converters as _register_converters\n"
     ]
    }
   ],
   "source": [
    "import numpy as np\n",
    "import pandas as pd\n",
    "import matplotlib.pyplot as plt\n",
    "import tensorflow as tf\n",
    "from sklearn.datasets import load_iris\n",
    "from sklearn.model_selection import train_test_split"
   ]
  },
  {
   "cell_type": "code",
   "execution_count": 10,
   "metadata": {},
   "outputs": [],
   "source": [
    "iris= load_iris()\n",
    "\n",
    "x= iris.data[:,:]\n",
    "y= iris.target[:]"
   ]
  },
  {
   "cell_type": "code",
   "execution_count": 5,
   "metadata": {},
   "outputs": [
    {
     "data": {
      "text/plain": [
       "((150, 4), (150,))"
      ]
     },
     "execution_count": 5,
     "metadata": {},
     "output_type": "execute_result"
    }
   ],
   "source": [
    "x.shape, y.shape"
   ]
  },
  {
   "cell_type": "code",
   "execution_count": 12,
   "metadata": {},
   "outputs": [],
   "source": [
    "y=pd.get_dummies(y).values"
   ]
  },
  {
   "cell_type": "code",
   "execution_count": 8,
   "metadata": {},
   "outputs": [
    {
     "data": {
      "text/plain": [
       "(150, 3)"
      ]
     },
     "execution_count": 8,
     "metadata": {},
     "output_type": "execute_result"
    }
   ],
   "source": [
    "y.shape"
   ]
  },
  {
   "cell_type": "code",
   "execution_count": 53,
   "metadata": {},
   "outputs": [],
   "source": [
    "xtrain, xtest, ytrain, ytest = train_test_split(x, y, test_size=0.33, random_state=42)"
   ]
  },
  {
   "cell_type": "code",
   "execution_count": 16,
   "metadata": {},
   "outputs": [],
   "source": [
    "features, labels= x.shape[1], y.shape[1]"
   ]
  },
  {
   "cell_type": "code",
   "execution_count": 18,
   "metadata": {},
   "outputs": [],
   "source": [
    "X= tf.placeholder(tf.float32, [None, features])\n",
    "Y= tf.placeholder(tf.float32, [None,labels])"
   ]
  },
  {
   "cell_type": "code",
   "execution_count": 19,
   "metadata": {},
   "outputs": [],
   "source": [
    "w= tf.Variable(tf.zeros([4,3]))\n",
    "b= tf.Variable(tf.zeros([3]))"
   ]
  },
  {
   "cell_type": "code",
   "execution_count": 58,
   "metadata": {},
   "outputs": [],
   "source": [
    "init= tf.global_variables_initializer()"
   ]
  },
  {
   "cell_type": "code",
   "execution_count": 30,
   "metadata": {},
   "outputs": [
    {
     "name": "stdout",
     "output_type": "stream",
     "text": [
      "[[0. 0. 0.]\n",
      " [0. 0. 0.]\n",
      " [0. 0. 0.]\n",
      " [0. 0. 0.]]\n"
     ]
    }
   ],
   "source": [
    "with tf.Session() as session:\n",
    "    session.run(init)\n",
    "    print(session.run(w))"
   ]
  },
  {
   "cell_type": "code",
   "execution_count": 46,
   "metadata": {},
   "outputs": [],
   "source": [
    "weights= tf.Variable(tf.random_normal([features,labels], mean=0, stddev=0.01,name=\"weights\"))\n",
    "\n",
    "bias= tf.Variable(tf.random_normal([1,labels], mean=0, stddev=0.01,name=\"bias\" ))"
   ]
  },
  {
   "cell_type": "code",
   "execution_count": 51,
   "metadata": {},
   "outputs": [],
   "source": [
    "weight_op= tf.matmul(X, weights, name= \"apply_weights\")\n",
    "\n",
    "add_bias= tf.add(weight_op, bias, name=\"add_bias\")\n",
    "\n",
    "activation_op= tf.nn.sigmoid(add_bias, name=\"activation\")"
   ]
  },
  {
   "cell_type": "code",
   "execution_count": 76,
   "metadata": {},
   "outputs": [],
   "source": [
    "epoch=1000\n",
    "\n",
    "learning_rate= tf.train.exponential_decay(learning_rate=0.0008, \n",
    "                                          global_step=1, \n",
    "                                          decay_steps=xtrain.shape[0], \n",
    "                                          decay_rate= 0.95,\n",
    "                                          staircase=True)"
   ]
  },
  {
   "cell_type": "code",
   "execution_count": 62,
   "metadata": {},
   "outputs": [],
   "source": [
    "correct_predictions_op = tf.equal(tf.argmax(activation_op,1),tf.argmax(Y,1))\n",
    "\n",
    "accuracy_op = tf.reduce_mean(tf.cast(correct_predictions_op, \"float\"))\n",
    "\n",
    "cost_op= tf.nn.l2_loss(activation_op-Y, name=\"squared_error_cost\")\n",
    "\n",
    "training_op= tf.train.GradientDescentOptimizer(learning_rate).minimize(cost_op)"
   ]
  },
  {
   "cell_type": "code",
   "execution_count": 99,
   "metadata": {},
   "outputs": [
    {
     "name": "stdout",
     "output_type": "stream",
     "text": [
      "step 0, training accuracy 0.35, cost 34.783, change in cost 34.783\n",
      "step 100, training accuracy 0.65, cost 20.7304, change in cost 14.0526\n",
      "step 200, training accuracy 0.72, cost 18.0595, change in cost 2.67083\n",
      "step 300, training accuracy 0.79, cost 16.8493, change in cost 1.21026\n",
      "step 400, training accuracy 0.83, cost 16.0759, change in cost 0.773357\n",
      "step 500, training accuracy 0.89, cost 15.5017, change in cost 0.574197\n",
      "step 600, training accuracy 0.9, cost 15.0427, change in cost 0.458996\n",
      "step 700, training accuracy 0.91, cost 14.6605, change in cost 0.382217\n",
      "step 800, training accuracy 0.91, cost 14.3341, change in cost 0.326415\n",
      "step 900, training accuracy 0.93, cost 14.0505, change in cost 0.283556\n",
      "\n",
      "\n",
      "final accuracy on test set: 0.98\n"
     ]
    }
   ],
   "source": [
    "accuracy_values=[]\n",
    "cost_values=[]\n",
    "oldcost=0\n",
    "\n",
    "with tf.Session() as session:\n",
    "    \n",
    "    session.run(init)\n",
    "    \n",
    "    for i in range(1000):\n",
    "        t=session.run(training_op, feed_dict={X: xtrain, Y: ytrain})\n",
    "        if i%100==0:\n",
    "            \n",
    "            accuracy, newcost = session.run([accuracy_op,cost_op],feed_dict={X: xtrain, Y: ytrain} )  \n",
    "            \n",
    "            accuracy_values.append(accuracy)\n",
    "            \n",
    "            cost_values.append(newcost)\n",
    "            \n",
    "            diff_of_cost= abs(newcost-oldcost)\n",
    "            oldcost=newcost\n",
    "            \n",
    "            print(\"step %d, training accuracy %g, cost %g, change in cost %g\"%(i, accuracy, newcost, diff_of_cost))\n",
    "\n",
    "    print(\"\\n\\nfinal accuracy on test set: %s\" %str(session.run(accuracy_op,feed_dict={X: xtest, Y: ytest} )))       "
   ]
  },
  {
   "cell_type": "code",
   "execution_count": 100,
   "metadata": {},
   "outputs": [
    {
     "name": "stderr",
     "output_type": "stream",
     "text": [
      "C:\\ProgramData\\Anaconda3\\lib\\site-packages\\numpy\\core\\fromnumeric.py:2957: RuntimeWarning: Mean of empty slice.\n",
      "  out=out, **kwargs)\n",
      "C:\\ProgramData\\Anaconda3\\lib\\site-packages\\numpy\\core\\_methods.py:80: RuntimeWarning: invalid value encountered in double_scalars\n",
      "  ret = ret.dtype.type(ret / rcount)\n"
     ]
    },
    {
     "data": {
      "image/png": "[encoded data removed]",
      "text/plain": [
       "<Figure size 432x288 with 1 Axes>"
      ]
     },
     "metadata": {},
     "output_type": "display_data"
    }
   ],
   "source": [
    "plt.plot([np.mean(cost_values[i-50:i]) for i in range(len(cost_values))])\n",
    "plt.show()"
   ]
  },
  {
   "cell_type": "code",
   "execution_count": null,
   "metadata": {},
   "outputs": [],
   "source": []
  },
  {
   "cell_type": "code",
   "execution_count": null,
   "metadata": {},
   "outputs": [],
   "source": []
  },
  {
   "cell_type": "code",
   "execution_count": null,
   "metadata": {},
   "outputs": [],
   "source": []
  }
 ],
 "metadata": {
  "kernelspec": {
   "display_name": "Python 3",
   "language": "python",
   "name": "python3"
  },
  "language_info": {
   "codemirror_mode": {
    "name": "ipython",
    "version": 3
   },
   "file_extension": ".py",
   "mimetype": "text/x-python",
   "name": "python",
   "nbconvert_exporter": "python",
   "pygments_lexer": "ipython3",
   "version": "3.6.5"
  }
 },
 "nbformat": 4,
 "nbformat_minor": 2
}
